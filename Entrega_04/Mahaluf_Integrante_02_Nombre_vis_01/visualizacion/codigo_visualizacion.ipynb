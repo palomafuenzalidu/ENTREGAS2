# Instalación de librerías necesarias
!pip install altair vega_datasets altair_saver selenium webdriver-manager

# Importación de librerías
import pandas as pd
import altair as alt

# Cargar el archivo CSV (asegúrate de subirlo primero o poner la ruta correcta)
df = pd.read_csv('oscars_limpio_1997_2025-F(in) (2).csv')

# Unificar columnas de distribuidores
df["all_distributors"] = df["distribuidor"].fillna("")

# Definir plataformas de streaming
streaming_platforms = ["Netflix", "Amazon", "Apple", "Hulu", "Disney+", "HBO Max"]

# Crear columna booleana si es distribuida por plataforma de streaming
df["is_streaming"] = df["all_distributors"].str.contains("|".join(streaming_platforms), case=False)

# Agrupar datos por año y tipo de distribución
df_grouped = df.groupby(["Year", "is_streaming"]).agg(
    nominaciones=("winner", "count"),
    ganadas=("winner", "sum")
).reset_index()

# Mapear los nombres legibles para la gráfica
df_grouped["Distribución"] = df_grouped["is_streaming"].map({True: "Streaming", False: "Cine tradicional"})

# Crear gráfica
chart = alt.Chart(df_grouped).mark_line(point=True).encode(
    x=alt.X("Year:O", title="Año"),
    y=alt.Y("nominaciones:Q", title="Cantidad de nominaciones"),
    color=alt.Color("Distribución:N", title="Tipo de Distribución"),
    tooltip=["Year", "Distribución", "nominaciones", "ganadas"]
).properties(
    title="Nominaciones al Oscar: Streaming vs Cine Tradicional",
    width=700,
    height=400
)

# Mostrar gráfico
chart.show()

# Guardar como HTML
chart.save('visualizacion.html')
