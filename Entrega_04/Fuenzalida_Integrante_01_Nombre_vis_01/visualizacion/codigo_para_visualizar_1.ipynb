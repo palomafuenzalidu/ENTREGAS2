{
  "nbformat": 4,
  "nbformat_minor": 0,
  "metadata": {
    "colab": {
      "provenance": []
    },
    "kernelspec": {
      "name": "python3",
      "display_name": "Python 3"
    },
    "language_info": {
      "name": "python"
    }
  },
  "cells": [
    {
      "cell_type": "code",
      "source": [
        "import pandas as pd\n",
        "import altair as alt\n",
        "from google.colab import files\n",
        "\n",
        "# 1. Cargar el archivo limpio\n",
        "df = pd.read_csv('/content/oscars_limpio_1997_2025-5.csv')\n",
        "\n",
        "# 2. Palabras clave de plataformas de streaming\n",
        "streaming_keywords = ['netflix', 'amazon', 'prime video', 'apple', 'hulu', 'disney+']\n",
        "\n",
        "# 3. Función para detectar si el distribuidor es de streaming\n",
        "def is_streaming(row):\n",
        "    distribuidor = str(row['distribuidor']).lower()\n",
        "    return any(keyword in distribuidor for keyword in streaming_keywords)\n",
        "\n",
        "# 4. Aplicar la función\n",
        "df['is_streaming'] = df.apply(is_streaming, axis=1)\n",
        "\n",
        "# 5. Agrupar y resumir datos\n",
        "summary = df.groupby(['Year', 'is_streaming'])['winner'].agg(['count', 'sum']).reset_index()\n",
        "summary = summary.rename(columns={'count': 'nominations', 'sum': 'wins'})\n",
        "\n",
        "# 6. Transformar para graficar\n",
        "summary_long = summary.melt(\n",
        "    id_vars=['Year', 'is_streaming'],\n",
        "    value_vars=['nominations', 'wins'],\n",
        "    var_name='Metric',\n",
        "    value_name='Count'\n",
        ")\n",
        "\n",
        "summary_long['Distribuidor'] = summary_long['is_streaming'].map({True: 'Streaming', False: 'Tradicional'})\n",
        "summary_long['Métrica'] = summary_long['Metric'].map({'nominations': 'Nominaciones', 'wins': 'Premios Ganados'})\n",
        "\n",
        "# 7. Definir escala de color\n",
        "color_scale = alt.Scale(domain=['Streaming', 'Tradicional'], range=['#e63946', '#457b9d'])\n",
        "\n",
        "# 8. Crear gráfico\n",
        "base = alt.Chart(summary_long).mark_line(point=alt.OverlayMarkDef(filled=True, size=60)).encode(\n",
        "    x=alt.X('Year:O', title='Año'),\n",
        "    y=alt.Y('Count:Q', title='Cantidad', axis=alt.Axis(labelFontSize=12, titleFontSize=14)),\n",
        "    color=alt.Color('Distribuidor:N', title='Tipo de Distribuidor', scale=color_scale),\n",
        "    strokeDash=alt.StrokeDash('Distribuidor:N', legend=None),\n",
        "    tooltip=['Year', 'Distribuidor', 'Métrica', 'Count']\n",
        ").properties(\n",
        "    width=320,\n",
        "    height=260\n",
        ")\n",
        "\n",
        "chart = base.facet(\n",
        "    column=alt.Column('Métrica:N', title=None, header=alt.Header(labelFontSize=14, labelFontWeight='bold'))\n",
        ").properties(\n",
        "    title={\n",
        "        \"text\": [\"Evolución de la presencia de plataformas de streaming en los Premios Oscar\"],\n",
        "        \"subtitle\": [\"Comparación de nominaciones y premios ganados frente a estudios tradicionales (1997–2025)\"],\n",
        "        \"fontSize\": 18,\n",
        "        \"subtitleFontSize\": 14,\n",
        "        \"anchor\": \"start\"\n",
        "    }\n",
        ").configure(\n",
        "    background='#ffffff'\n",
        ").configure_view(\n",
        "    stroke=None\n",
        ").configure_axis(\n",
        "    labelFontSize=11,\n",
        "    titleFontSize=13\n",
        ").configure_legend(\n",
        "    labelFontSize=12,\n",
        "    titleFontSize=13\n",
        ")\n",
        "\n",
        "# 9. Guardar el gráfico como HTML\n",
        "chart.save('streaming_vs_tradicional.html')\n",
        "files.download('streaming_vs_tradicional.html')\n"
      ],
      "metadata": {
        "colab": {
          "base_uri": "https://localhost:8080/",
          "height": 17
        },
        "id": "rbqfBpbkhHNZ",
        "outputId": "df4a2930-cd16-449f-a783-ae0ed1ed1275"
      },
      "execution_count": 13,
      "outputs": [
        {
          "output_type": "display_data",
          "data": {
            "text/plain": [
              "<IPython.core.display.Javascript object>"
            ],
            "application/javascript": [
              "\n",
              "    async function download(id, filename, size) {\n",
              "      if (!google.colab.kernel.accessAllowed) {\n",
              "        return;\n",
              "      }\n",
              "      const div = document.createElement('div');\n",
              "      const label = document.createElement('label');\n",
              "      label.textContent = `Downloading \"${filename}\": `;\n",
              "      div.appendChild(label);\n",
              "      const progress = document.createElement('progress');\n",
              "      progress.max = size;\n",
              "      div.appendChild(progress);\n",
              "      document.body.appendChild(div);\n",
              "\n",
              "      const buffers = [];\n",
              "      let downloaded = 0;\n",
              "\n",
              "      const channel = await google.colab.kernel.comms.open(id);\n",
              "      // Send a message to notify the kernel that we're ready.\n",
              "      channel.send({})\n",
              "\n",
              "      for await (const message of channel.messages) {\n",
              "        // Send a message to notify the kernel that we're ready.\n",
              "        channel.send({})\n",
              "        if (message.buffers) {\n",
              "          for (const buffer of message.buffers) {\n",
              "            buffers.push(buffer);\n",
              "            downloaded += buffer.byteLength;\n",
              "            progress.value = downloaded;\n",
              "          }\n",
              "        }\n",
              "      }\n",
              "      const blob = new Blob(buffers, {type: 'application/binary'});\n",
              "      const a = document.createElement('a');\n",
              "      a.href = window.URL.createObjectURL(blob);\n",
              "      a.download = filename;\n",
              "      div.appendChild(a);\n",
              "      a.click();\n",
              "      div.remove();\n",
              "    }\n",
              "  "
            ]
          },
          "metadata": {}
        },
        {
          "output_type": "display_data",
          "data": {
            "text/plain": [
              "<IPython.core.display.Javascript object>"
            ],
            "application/javascript": [
              "download(\"download_52f1506a-58ce-49e3-bee6-3571bf671467\", \"streaming_vs_tradicional.html\", 13688)"
            ]
          },
          "metadata": {}
        }
      ]
    },
    {
      "cell_type": "code",
      "source": [
        "chart.save('streaming_vs_tradicional.html')\n",
        "from google.colab import files\n",
        "files.download('streaming_vs_tradicional.html')"
      ],
      "metadata": {
        "id": "JsWcTcRISO3w",
        "outputId": "85b54a1a-9d8f-4fc0-d6c8-12ec6d1920ba",
        "colab": {
          "base_uri": "https://localhost:8080/",
          "height": 17
        }
      },
      "execution_count": null,
      "outputs": [
        {
          "output_type": "display_data",
          "data": {
            "text/plain": [
              "<IPython.core.display.Javascript object>"
            ],
            "application/javascript": [
              "\n",
              "    async function download(id, filename, size) {\n",
              "      if (!google.colab.kernel.accessAllowed) {\n",
              "        return;\n",
              "      }\n",
              "      const div = document.createElement('div');\n",
              "      const label = document.createElement('label');\n",
              "      label.textContent = `Downloading \"${filename}\": `;\n",
              "      div.appendChild(label);\n",
              "      const progress = document.createElement('progress');\n",
              "      progress.max = size;\n",
              "      div.appendChild(progress);\n",
              "      document.body.appendChild(div);\n",
              "\n",
              "      const buffers = [];\n",
              "      let downloaded = 0;\n",
              "\n",
              "      const channel = await google.colab.kernel.comms.open(id);\n",
              "      // Send a message to notify the kernel that we're ready.\n",
              "      channel.send({})\n",
              "\n",
              "      for await (const message of channel.messages) {\n",
              "        // Send a message to notify the kernel that we're ready.\n",
              "        channel.send({})\n",
              "        if (message.buffers) {\n",
              "          for (const buffer of message.buffers) {\n",
              "            buffers.push(buffer);\n",
              "            downloaded += buffer.byteLength;\n",
              "            progress.value = downloaded;\n",
              "          }\n",
              "        }\n",
              "      }\n",
              "      const blob = new Blob(buffers, {type: 'application/binary'});\n",
              "      const a = document.createElement('a');\n",
              "      a.href = window.URL.createObjectURL(blob);\n",
              "      a.download = filename;\n",
              "      div.appendChild(a);\n",
              "      a.click();\n",
              "      div.remove();\n",
              "    }\n",
              "  "
            ]
          },
          "metadata": {}
        },
        {
          "output_type": "display_data",
          "data": {
            "text/plain": [
              "<IPython.core.display.Javascript object>"
            ],
            "application/javascript": [
              "download(\"download_68576ebf-2f71-47dc-9a40-2c8297261f9b\", \"streaming_vs_tradicional.html\", 18333)"
            ]
          },
          "metadata": {}
        }
      ]
    }
  ]
}