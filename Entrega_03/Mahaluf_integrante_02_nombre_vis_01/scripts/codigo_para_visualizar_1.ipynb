!pip install altair vega_datasets altair_saver selenium webdriver-manager
import pandas as pd

# Cargamos el archivo
df = pd.read_csv("oscars_limpio_1997_2025-F(in).csv")

# Vista previa
df.head()
# Unir todas las columnas de distribuidores en una sola
df["all_distributors"] = df[["distribuidor"]].fillna("").agg(" ".join, axis=1)

# Lista de plataformas de streaming
streaming_platforms = ["Netflix", "Amazon", "Apple", "Hulu", "Disney+", "HBO Max"]

# Identificar si una película fue distribuida por una plataforma de streaming
df["is_streaming"] = df["all_distributors"].str.contains("|".join(streaming_platforms), case=False)

# Verifica que la columna esté bien
df[["Film", "Year", "all_distributors", "is_streaming"]].head()
df_grouped = df.groupby(["Year", "is_streaming"]).agg(
    nominaciones=("winner", "count"),
    ganadas=("winner", "sum")
).reset_index()

df_grouped["Distribución"] = df_grouped["is_streaming"].map({True: "Streaming", False: "Cine tradicional"})

df_grouped.head()
import altair as alt

chart = alt.Chart(df_grouped).mark_line(point=True).encode(
    x=alt.X("Year:O", title="Año"),
    y=alt.Y("nominaciones:Q", title="Cantidad de nominaciones"),
    color=alt.Color("Distribución:N"),
    tooltip=["Year", "Distribución", "nominaciones", "ganadas"]
).properties(
    title="Nominaciones al Oscar: Streaming vs Industria Tradicional",
    width=700,
    height=400
)

chart.show()
chart.save('visualizacion.html')
